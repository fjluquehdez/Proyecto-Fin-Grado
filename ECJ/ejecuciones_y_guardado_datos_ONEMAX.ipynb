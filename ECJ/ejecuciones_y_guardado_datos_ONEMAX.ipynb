{
 "cells": [
  {
   "cell_type": "markdown",
   "metadata": {},
   "source": [
    "antes de ejecutar este script hay que compilar, por separado, los archivos java con el siguiente comando:\n",
    "> javac -cp ecj-27.jar:. *.java\n",
    "\n",
    "Esto generará los .class necesarios en el mismo directorio.\n",
    "\n",
    "para ejecutar este sript usamos:\n",
    "> jupyter nbconvert --to notebook --execute --inplace ejecuciones_y_guardado_datos.ipynb\n"
   ]
  },
  {
   "cell_type": "markdown",
   "metadata": {},
   "source": [
    "código para ejecutar ECJ con las 9 configuraciones"
   ]
  },
  {
   "cell_type": "code",
   "execution_count": null,
   "metadata": {
    "execution": {
     "iopub.execute_input": "2025-04-29T08:57:18.800948Z",
     "iopub.status.busy": "2025-04-29T08:57:18.800636Z",
     "iopub.status.idle": "2025-04-29T12:14:45.486195Z",
     "shell.execute_reply": "2025-04-29T12:14:45.485260Z"
    }
   },
   "outputs": [],
   "source": [
    "import subprocess\n",
    "import time\n",
    "from codecarbon import EmissionsTracker\n",
    "from itertools import product\n",
    "import re\n",
    "import socket\n",
    "COMPUTER_NAME = socket.gethostname()\n",
    "codecarbon_file = f'codecarbon_ECJ_{COMPUTER_NAME}.csv'\n",
    "\n",
    "# Parámetros a recorrer\n",
    "population_sizes = [2**6, 2**10, 2**14]\n",
    "crossover_probs = [0.2, 0.01, 0.8]\n",
    "\n",
    "# Ruta al archivo de parámetros\n",
    "params_file = \"onemax.params\"\n",
    "\n",
    "# Leer el contenido base del archivo\n",
    "with open(params_file, \"r\") as f:\n",
    "    base_params = f.read()\n",
    "\n",
    "# Función para actualizar el archivo con nuevos valores\n",
    "def actualizar_params(pop_size, crossover_prob):\n",
    "    nuevo = re.sub(r\"pop\\.subpop\\.0\\.size\\s*=.*\", f\"pop.subpop.0.size = {pop_size}\", base_params)\n",
    "    nuevo = re.sub(r\"pop\\.subpop\\.0\\.species\\.pipe\\.source\\.0\\.prob\\s*=.*\",\n",
    "                   f\"pop.subpop.0.species.pipe.source.0.prob = {crossover_prob}\", nuevo)\n",
    "    with open(params_file, \"w\") as f:\n",
    "        f.write(nuevo)\n",
    "\n",
    "# Función para compilar los archivos\n",
    "def compilar_java():\n",
    "    print(\"Compilando archivos Java...\")\n",
    "    subprocess.run([\"javac\", \"-cp\", \"ecj-27.jar:.\", \"*.java\"], check=True)\n",
    "\n",
    "# Bucle principal\n",
    "for pop_size, crossover_prob in product(population_sizes, crossover_probs):\n",
    "    print(\"\\n=======================================\")\n",
    "    print(f\"CONFIGURACIÓN: Población={pop_size}, Cruce={crossover_prob}\")\n",
    "    print(\"=======================================\")\n",
    "\n",
    "    # Actualizar archivo params\n",
    "    actualizar_params(pop_size, crossover_prob)\n",
    "\n",
    "    # Compilar el código\n",
    "    # compilar_java()\n",
    "\n",
    "    # Ejecutar 10 veces con medición\n",
    "    for i in range(1, 11):\n",
    "        print(f\"\\nEsperando 5 segundos antes de la ejecución {i}...\")\n",
    "        time.sleep(5)\n",
    "\n",
    "        print(f\"Ejecutando iteración {i} con CodeCarbon...\")\n",
    "\n",
    "        tracker= EmissionsTracker(\n",
    "                        project_name=\"OneMax_Experiment\",  # Mismo proyecto para todas las ejecuciones\n",
    "                        output_dir=\".\",                        \n",
    "                        output_file=codecarbon_file,\n",
    "                        log_level=\"critical\",\n",
    "                        save_to_file=True,\n",
    "                        tracking_mode=\"process\",\n",
    "                        allow_multiple_runs=True\n",
    "                    )\n",
    "        tracker.start()\n",
    "\n",
    "        subprocess.run([\"java\", \"-cp\", \"ecj-27.jar:.\", \"RunOneMax\"], check=True)\n",
    "\n",
    "        tracker.stop()\n",
    "\n",
    "        print(f\"Iteración {i} completada.\")\n",
    "\n",
    "print(\"\\nEXPERIMENTO COMPLETO\")"
   ]
  }
 ],
 "metadata": {
  "kernelspec": {
   "display_name": "base",
   "language": "python",
   "name": "python3"
  },
  "language_info": {
   "codemirror_mode": {
    "name": "ipython",
    "version": 3
   },
   "file_extension": ".py",
   "mimetype": "text/x-python",
   "name": "python",
   "nbconvert_exporter": "python",
   "pygments_lexer": "ipython3",
   "version": "3.12.4"
  }
 },
 "nbformat": 4,
 "nbformat_minor": 2
}
