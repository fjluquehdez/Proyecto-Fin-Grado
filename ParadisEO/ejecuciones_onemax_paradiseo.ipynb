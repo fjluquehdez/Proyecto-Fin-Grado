{
 "cells": [
  {
   "cell_type": "code",
   "execution_count": null,
   "metadata": {},
   "outputs": [],
   "source": [
    "import subprocess\n",
    "import time\n",
    "from codecarbon import EmissionsTracker\n",
    "from itertools import product\n",
    "\n",
    "# Parámetros a recorrer\n",
    "population_sizes = [2**6, 2**10, 2**14]  # 64, 1024, 16384\n",
    "crossover_probs = [0.2, 0.01, 0.8]\n",
    "\n",
    "# Variable global para el id (debe llegar a 90)\n",
    "global_id = 1\n",
    "\n",
    "# Bucle principal: para cada combinación de tamaño de población y probabilidad de cruce\n",
    "for pop_size, crossover_prob in product(population_sizes, crossover_probs):\n",
    "    print(\"\\n=======================================\")\n",
    "    print(f\"CONFIGURACIÓN: Población={pop_size}, Cruce={crossover_prob}\")\n",
    "    print(\"=======================================\")\n",
    "\n",
    "    # Ejecutar 10 iteraciones para cada configuración\n",
    "    for _ in range(10):\n",
    "        print(f\"\\nEsperando 5 segundos antes de la ejecución con ID {global_id}...\")\n",
    "        time.sleep(5)\n",
    "\n",
    "        print(f\"Ejecutando iteración con ID {global_id} con CodeCarbon...\")\n",
    "\n",
    "        # Iniciar el tracker de CodeCarbon\n",
    "        tracker = EmissionsTracker(\n",
    "            project_name=\"OneMax_Experiment\",\n",
    "            output_dir=\".\",\n",
    "            log_level=\"critical\",\n",
    "            save_to_file=True,\n",
    "            tracking_mode=\"process\"\n",
    "        )\n",
    "        tracker.start()\n",
    "\n",
    "        # Construir el comando para ejecutar el programa C++\n",
    "        cmd = [\n",
    "            \"./onemax\",\n",
    "            \"-p\", str(pop_size),\n",
    "            \"-c\", str(crossover_prob),\n",
    "            \"-i\", str(global_id)\n",
    "        ]\n",
    "        subprocess.run(cmd, check=True)\n",
    "\n",
    "        tracker.stop()\n",
    "\n",
    "        print(f\"Iteración con ID {global_id} completada.\")\n",
    "        global_id += 1\n",
    "\n",
    "print(\"\\nEXPERIMENTO COMPLETO\")\n"
   ]
  }
 ],
 "metadata": {
  "kernelspec": {
   "display_name": "base",
   "language": "python",
   "name": "python3"
  },
  "language_info": {
   "codemirror_mode": {
    "name": "ipython",
    "version": 3
   },
   "file_extension": ".py",
   "mimetype": "text/x-python",
   "name": "python",
   "nbconvert_exporter": "python",
   "pygments_lexer": "ipython3",
   "version": "3.12.4"
  }
 },
 "nbformat": 4,
 "nbformat_minor": 2
}
